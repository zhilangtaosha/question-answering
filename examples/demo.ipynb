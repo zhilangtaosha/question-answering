{
 "cells": [
  {
   "cell_type": "markdown",
   "metadata": {},
   "source": [
    "# Open QA on wikipedia"
   ]
  },
  {
   "cell_type": "markdown",
   "metadata": {},
   "source": [
    "---\n",
    "### Initialize"
   ]
  },
  {
   "cell_type": "code",
   "execution_count": 1,
   "metadata": {},
   "outputs": [
    {
     "name": "stderr",
     "output_type": "stream",
     "text": [
      "09/09/2020 23:09:04 - INFO - faiss -   Loading faiss with AVX2 support.\n",
      "09/09/2020 23:09:04 - INFO - faiss -   Loading faiss.\n"
     ]
    }
   ],
   "source": [
    "from demo import *"
   ]
  },
  {
   "cell_type": "markdown",
   "metadata": {},
   "source": [
    "---\n",
    "### BM25 + Reader"
   ]
  },
  {
   "cell_type": "code",
   "execution_count": 2,
   "metadata": {},
   "outputs": [],
   "source": [
    "QUESTION = 'When was pink floyd formed?'"
   ]
  },
  {
   "cell_type": "code",
   "execution_count": 3,
   "metadata": {},
   "outputs": [
    {
     "data": {
      "text/markdown": [
       "##### Answer 1: 1965.\n",
       "* Context: \"e band since its formation in 1965. Mason co-wrote Pink Floyd com\"\n",
       "* Article: Nick Mason\n",
       "* URL: https://en.wikipedia.org/wiki?curid=268284\n",
       "\n",
       "##### Answer 2: 1964,\n",
       "* Context: \"Starting in 1964, the band that would become Pi\"\n",
       "* Article: Syd Barrett\n",
       "* URL: https://en.wikipedia.org/wiki?curid=4740559\n",
       "\n",
       "##### Answer 3: 2018\n",
       "* Context: \"ogressive rock band formed in 2018 by drummer Nick Mason and gui\"\n",
       "* Article: Nick Mason's Saucerful of Secrets\n",
       "* URL: https://en.wikipedia.org/wiki?curid=57551047\n",
       "\n"
      ],
      "text/plain": [
       "<IPython.core.display.Markdown object>"
      ]
     },
     "metadata": {},
     "output_type": "display_data"
    }
   ],
   "source": [
    "answer(QUESTION, mode='bm25+reader', retriever_es_k=20, reader_k=3)"
   ]
  },
  {
   "cell_type": "markdown",
   "metadata": {},
   "source": [
    "---\n",
    "### BM25 + DPR + Reader"
   ]
  },
  {
   "cell_type": "code",
   "execution_count": 4,
   "metadata": {},
   "outputs": [],
   "source": [
    "QUESTION = 'What is the 2nd largest city in the Netherlands?'"
   ]
  },
  {
   "cell_type": "code",
   "execution_count": 5,
   "metadata": {},
   "outputs": [
    {
     "data": {
      "text/markdown": [
       "##### Answer 1: Rotterdam.\n",
       "* Context: \"herlands, after Amsterdam and Rotterdam. Located in the west of the Ne\"\n",
       "* Article: Eurovision Song Contest 1976\n",
       "* URL: https://en.wikipedia.org/wiki?curid=193442\n",
       "\n",
       "##### Answer 2: Rotterdam.\n",
       "* Context: \"herlands, after Amsterdam and Rotterdam. The Rotterdam–The Hague metro\"\n",
       "* Article: The Hague\n",
       "* URL: https://en.wikipedia.org/wiki?curid=30269\n",
       "\n",
       "##### Answer 3: The Hague.\n",
       "* Context: \" are Amsterdam, Rotterdam and The Hague. Amsterdam is formally the cap\"\n",
       "* Article: Holland\n",
       "* URL: https://en.wikipedia.org/wiki?curid=13288\n",
       "\n"
      ],
      "text/plain": [
       "<IPython.core.display.Markdown object>"
      ]
     },
     "metadata": {},
     "output_type": "display_data"
    }
   ],
   "source": [
    "answer(QUESTION, mode='bm25+dpr+reader', retriever_es_k=50, retriever_dpr_k=5, reader_k=3)"
   ]
  },
  {
   "cell_type": "code",
   "execution_count": null,
   "metadata": {},
   "outputs": [],
   "source": []
  }
 ],
 "metadata": {
  "kernelspec": {
   "display_name": "Python 3",
   "language": "python",
   "name": "python3"
  },
  "language_info": {
   "codemirror_mode": {
    "name": "ipython",
    "version": 3
   },
   "file_extension": ".py",
   "mimetype": "text/x-python",
   "name": "python",
   "nbconvert_exporter": "python",
   "pygments_lexer": "ipython3",
   "version": "3.7.8"
  }
 },
 "nbformat": 4,
 "nbformat_minor": 4
}
