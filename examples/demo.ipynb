{
 "cells": [
  {
   "cell_type": "markdown",
   "metadata": {},
   "source": [
    "# Open QA on wikipedia"
   ]
  },
  {
   "cell_type": "markdown",
   "metadata": {},
   "source": [
    "---\n",
    "### BM25 + Reader\n",
    "---"
   ]
  },
  {
   "cell_type": "code",
   "execution_count": 3,
   "metadata": {},
   "outputs": [],
   "source": [
    "HOST = 'localhost' \n",
    "PORT = 9200 \n",
    "INDEX_NAME = 'wikipedia_paragraph'\n",
    "\n",
    "from haystack import Finder\n",
    "from haystack.reader.transformers import TransformersReader\n",
    "from haystack.utils import print_answers\n",
    "from haystack.database.elasticsearch import ElasticsearchDocumentStore\n",
    "document_store = ElasticsearchDocumentStore(host=HOST, port=PORT, username=\"\", password=\"\", index=INDEX_NAME)"
   ]
  },
  {
   "cell_type": "code",
   "execution_count": 4,
   "metadata": {},
   "outputs": [],
   "source": [
    "from haystack.retriever.sparse import ElasticsearchRetriever\n",
    "retriever = ElasticsearchRetriever(document_store=document_store)\n",
    "READER_DiR = \"../models/electra-base-squad2\"\n",
    "reader = TransformersReader(model=READER_DiR, tokenizer=READER_DiR,  use_gpu=0)"
   ]
  },
  {
   "cell_type": "code",
   "execution_count": 5,
   "metadata": {},
   "outputs": [],
   "source": [
    "QUESTION = 'Who is Elon Musk?'"
   ]
  },
  {
   "cell_type": "code",
   "execution_count": 6,
   "metadata": {},
   "outputs": [
    {
     "name": "stdout",
     "output_type": "stream",
     "text": [
      "{   'answers': [   {   'answer': 'billionaire entrepreneur',\n",
      "                       'context': 'In 2010, billionaire entrepreneur Elon Musk '\n",
      "                                  'and actress Talulah',\n",
      "                       'document_id': 'hTukc3QBibgQwJj6GVlV',\n",
      "                       'meta': {   'id': '2825659',\n",
      "                                   'name': 'Dornoch Cathedral',\n",
      "                                   'paragraph_id': 6,\n",
      "                                   'url': 'https://en.wikipedia.org/wiki?curid=2825659'},\n",
      "                       'offset_end': 33,\n",
      "                       'offset_start': 9,\n",
      "                       'probability': 0.9993407378555432,\n",
      "                       'score': None},\n",
      "                   {   'answer': 'Tesla founder',\n",
      "                       'context': 'In 2015, Tesla founder Elon Musk claimed '\n",
      "                                  'that silico',\n",
      "                       'document_id': 'Fiefc3QBibgQwJj6JTLO',\n",
      "                       'meta': {   'id': '47270052',\n",
      "                                   'name': 'Lithium–silicon battery',\n",
      "                                   'paragraph_id': 3,\n",
      "                                   'url': 'https://en.wikipedia.org/wiki?curid=47270052'},\n",
      "                       'offset_end': 22,\n",
      "                       'offset_start': 9,\n",
      "                       'probability': 0.9944354455037961,\n",
      "                       'score': None},\n",
      "                   {   'answer': 'CEO',\n",
      "                       'context': 'ltimately by a factor of ten. CEO Elon Musk '\n",
      "                                  'said: \"I believe $5',\n",
      "                       'document_id': 'ke6Qc3QBibgQwJj6-Q7j',\n",
      "                       'meta': {   'id': '832774',\n",
      "                                   'name': 'SpaceX',\n",
      "                                   'paragraph_id': 9,\n",
      "                                   'url': 'https://en.wikipedia.org/wiki?curid=832774'},\n",
      "                       'offset_end': 144,\n",
      "                       'offset_start': 141,\n",
      "                       'probability': 0.988904650910668,\n",
      "                       'score': None}],\n",
      "    'question': 'Who is Elon Musk?'}\n"
     ]
    }
   ],
   "source": [
    "import logging\n",
    "logging.disable(logging.WARNING)\n",
    "finder = Finder(reader, retriever)\n",
    "prediction = finder.get_answers(question=QUESTION, \n",
    "                                top_k_retriever=50, \n",
    "                                top_k_reader=3)\n",
    "print_answers(prediction)"
   ]
  },
  {
   "cell_type": "code",
   "execution_count": null,
   "metadata": {},
   "outputs": [],
   "source": []
  },
  {
   "cell_type": "markdown",
   "metadata": {},
   "source": [
    "---\n",
    "### BM25 + DPR + Reader\n",
    "---"
   ]
  },
  {
   "cell_type": "code",
   "execution_count": null,
   "metadata": {},
   "outputs": [],
   "source": []
  }
 ],
 "metadata": {
  "kernelspec": {
   "display_name": "Python 3",
   "language": "python",
   "name": "python3"
  },
  "language_info": {
   "codemirror_mode": {
    "name": "ipython",
    "version": 3
   },
   "file_extension": ".py",
   "mimetype": "text/x-python",
   "name": "python",
   "nbconvert_exporter": "python",
   "pygments_lexer": "ipython3",
   "version": "3.7.8"
  }
 },
 "nbformat": 4,
 "nbformat_minor": 4
}
