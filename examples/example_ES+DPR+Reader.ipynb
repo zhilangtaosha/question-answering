{
 "cells": [
  {
   "cell_type": "markdown",
   "metadata": {},
   "source": [
    "## QA on wikipedia with Dense Passage Retrieval"
   ]
  },
  {
   "cell_type": "markdown",
   "metadata": {},
   "source": [
    "#### document_store"
   ]
  },
  {
   "cell_type": "code",
   "execution_count": 1,
   "metadata": {},
   "outputs": [],
   "source": [
    "HOST = 'localhost' \n",
    "PORT = 9200 \n",
    "INDEX_NAME = 'wikipedia_en'\n",
    "\n",
    "import logging\n",
    "logging.disable(logging.INFO)\n",
    "logging.disable(logging.WARNING)\n",
    "from haystack import Finder\n",
    "from haystack.reader.transformers import TransformersReader\n",
    "from haystack.utils import print_answers\n",
    "from haystack.database.elasticsearch import ElasticsearchDocumentStore\n",
    "document_store = ElasticsearchDocumentStore(host=HOST, port=PORT, username=\"\", password=\"\", index=INDEX_NAME)"
   ]
  },
  {
   "cell_type": "markdown",
   "metadata": {},
   "source": [
    "#### retriever (ES)"
   ]
  },
  {
   "cell_type": "code",
   "execution_count": 2,
   "metadata": {},
   "outputs": [],
   "source": [
    "from haystack.retriever.sparse import ElasticsearchRetriever\n",
    "retriever_es = ElasticsearchRetriever(document_store=document_store)"
   ]
  },
  {
   "cell_type": "code",
   "execution_count": 3,
   "metadata": {},
   "outputs": [],
   "source": [
    "ES_TOP_K = 100\n",
    "question = 'Who is obama?'\n",
    "docs = retriever_es.retrieve(question, top_k=ES_TOP_K)"
   ]
  },
  {
   "cell_type": "code",
   "execution_count": 6,
   "metadata": {},
   "outputs": [
    {
     "data": {
      "text/plain": [
       "Document(id='DYVLUHQBdihk5qAl5ZFu', text='Public image of Barack Obama\\n\\nBarack Obama, who was elected as the 44th President of the United States, has elicited a number of public perceptions regarding his personality and background. As the first African-American President of the United States, his race and culture played a prominent role, both positively and negatively. His relative youth (47 when elected) has alternately resulted in his being praised for his freshness and criticized for his inexperience. His temperament and demeanor have been praised for perceived unflappability, but criticized for a perception of lacking emotional attachment.\\n\\nObama, who is of biracial background, is regarded and self-identifies as African-American. His father was a black Kenyan from the Luo ethnic group and his mother was white of European descent, mainly of English lineage. Obama, who grew to adulthood after the Civil Rights Movement, had early life experiences that differed from most African American politicians who launched their careers in the 1960s through participation in that movement. He was brought up in Honolulu, Hawaii, lived in Jakarta, Indonesia as a young child, and received a private prep school and Ivy League education.\\n\\nIn a March 2007 op-ed, African-American film critic David Ehrenstein of the \"Los Angeles Times\" said that Obama was an early popular contender for the presidency not because of his political record, but because whites viewed him as a kind of \"comic-book superhero\", who would selflessly solve white people\\'s problems. Black commentators such as Stanley Crouch of the New York \"Daily News\" expressed mixed feelings about his racial identity, while others like Laura Washington (\"Chicago Sun-Times\"), Gary Younge (\"The Nation\"), and Clarence Page (\"Houston Chronicle\") reported a general ambivalence among the black community about his authenticity as an African-American.\\n\\nIn January 2007, \"The End of Blackness\" author Debra Dickerson warned against drawing favorable cultural implications from Obama\\'s political rise: \"Lumping us all together\", Dickerson claimed it, \"erases the significance of slavery and continuing racism while giving the appearance of progress\". On the liberal website Salon Debra wrote, \"African-American, in our political and social vocabulary, means those descended from West African slaves, because Obama is not a descendant of West Africans brought involuntarily to the United States as slaves, he is not African-American,\" although his father is from Africa. Stanley Crouch wrote in the New York \"Daily News\", \"Obama\\'s mother is of white U.S. stock. His father is a black Kenyan,\" in a column entitled \"What Obama Isn\\'t: Black Like Me\".\\n\\nAddressing the issue of whether he was \"black enough,\" Obama told an August 2007 meeting of the National Association of Black Journalists that the debate was not about his physical appearance or his record on issues of concern to black voters. Obama said, \"we\\'re still locked in this notion that if you appeal to white folks then there must be something wrong.\"\\n\\nAfter a McCain advertisement accused Obama of being \"just a celebrity like Britney Spears or Paris Hilton,\" Obama asserted that McCain and other Republicans would try to scare voters because he (Obama) \"doesn\\'t look like all those other presidents on the dollar bills.\" The Obama campaign initially denied that the comment was on race, but campaign strategist David Axelrod later conceded that it was.\\n\\nThough the media discussed his racial and ethnic heritage, a 2008 post-election poll by FactCheck.org found that about 22% of Americans still incorrectly believed that Obama is half Arab, possibly due to the influence of misleading blogs and widely circulated e-mail messages.\\n\\nIn 2010, when filling out his form for the 2010 United States Census, Obama self-identified as African American.\\n\\nIn \"The Audacity of Hope\", Obama writes that he \"was not raised in a religious household\". He describes his mother, raised by non-religious parents (whom Obama has specified elsewhere as \"non-practicing Methodists and Baptists\") to be detached from religion, yet \"in many ways the most spiritually awakened person that I have ever known\". He describes his father as \"raised a Muslim\", but a \"confirmed atheist\" by the time his parents met, and his stepfather as \"a man who saw religion as not particularly useful\". His spiritual change of heart as an adult and his coming to believe in Christianity is a major part of his autobiography \"Dreams from My Father\". Obama has stated that he \"felt a beckoning of the spirit\" at this time. He has also said that his political/ethical beliefs are \"guided by his Christian faith\" including belief \"in the power of prayer.\"\\n\\nAlthough Obama is a Christian, some July 2008 polls showed that some Americans incorrectly believed that he is Muslim or was raised Muslim (12% and 26%, respectively, in Pew and \"Newsweek\" polls). Citing the latter poll by CNN\\'s Larry King, Obama responded, \"...I wasn\\'t raised in a Muslim home,\" and he said that advancement of the misconception insulted Muslim Americans.\\n\\nMuch of the speculations and allegations began with chain e-mails of unknown origin during Obama\\'s presidential campaign. \"The Obama Nation\", a book (published August 1, 2008) by Jerome Corsi, openly speculated that Obama had concealed a religious affiliation with Islam. His book opens with a quote by Andy Martin, who \"The Nation\", \"The Washington Post\", and \"The New York Times\" have identified as the primary source for the allegations that Obama is concealing a Muslim faith. Speculation about Obama\\'s Muslim heritage has been widely denounced in the news media by both political supporters and political opponents (such as David Freddoso in his book \"The Case Against Barack Obama\") of Obama.\\n\\nIn March 2009, the Pew Research Center reported that 11% of Americans still believed that Obama was a Muslim, with the percentages highest (19%) among self-identified white evangelical Protestants and people who disapproved of Obama\\'s job performance in the first month of his presidency, and lowest (6%) among college graduates and blacks. The poll indicated that 48% of those surveyed believed that he was Christian, down 3% from October 2008, and that 35% did not know his religion.\\n\\nThis faulty belief still persists and has even risen slightly as of August 2010. The newer survey from \"Pew Forum on Religion and Public Life\" cites that \"Nearly one in five Americans, 18 percent, still incorrectly believe Obama is a Muslim, up from 11 percent in 2009. Strangely, despite repeated declarations of his faith, the number of people that correctly say \"Christian\" when asked his religion, has declined significantly, from 51 percent in 2008 to 34 percent two years later; 43 percent say they don\\'t know what religion the president is.\" The results were based on interviews conducted before Obama\\'s August 13 comments on the Lower Manhattan Park51 project, the planned 13-story Muslim community center to be located two blocks from the World Trade Center site in Lower Manhattan. One interview in the opinion section of the LA Times was titled \"The Useless Obama Muslim poll.\" In response, the White House said: \"President Obama is Christian, prays daily.\"\\n\\nIn July 2002, 40-year-old state Sen. Barack Obama embarked on a two-year campaign for 41-year-old Republican Peter Fitzgerald\\'s U.S. Senate seat, against a large field of better known and wealthier opponents in the most expensive Senate primary in U.S. history. In March 2004, Obama won an unexpected landslide in the Illinois primary election for the Democratic nomination for U.S. Senate—which overnight made him a rising star within the national Democratic Party, started speculation about a presidential future, and led to the reissue of his memoir, \"Dreams from My Father\".\\n\\nLate June 2004, after the withdrawal of his GOP opponent, 44-year-old Jack Ryan, found the 42-year-old Obama \"assessing his circumstances—the sudden elevation to political superstardom, the cascade of campaign cash, and the favorable, almost fawning, attention\", which soon yielded an invitation to deliver the keynote address at the 2004 Democratic National Convention. By the eve of the July 2004 Democratic National Convention, Terence Samuel\\'s \"U.S. News & World Report\" article \"A shining star named Obama. How a most unlikely politician became a darling of the Democrats\" reported that \"what was once a long-shot campaign by an obscure state senator with a funny name ... ha[d] come to resemble a runaway freight train,\" with Obama, the lead guest on \"Meet the Press\", being asked by Tim Russert about comments in Ryan Lizza\\'s \"The Atlantic\" article \"The Natural. Why is Barack Obama generating more excitement among Democrats than John Kerry?\"\\n\\nIn contrast, Eli Saslow\\'s August 2008 \"Washington Post\" article \"The 17 Minutes That Launched a Political Star\" asserted that \"Obama approached the lectern in Boston a virtual nobody, a representative for 600,000 constituents in Illinois\\' 13th District. He exited having set the course for an unprecedented political ascent.\" According to Saslow, \"In the 40 hours before his Tuesday night speech, Obama granted more than 15 interviews, including several broadcast live on television. To Obama and his advisers, it seemed that many of the questions hinted at the same issue: Who, exactly, are you? And why, exactly, are you delivering a keynote speech?\" Although not broadcast by ABC, CBS, or NBC, over nine million viewers saw Obama\\'s 2004 DNC keynote address. Saslow said that it \"crafted a first impression that still stands at the foundation of his presidential campaign.\" Saslow said that \"Obama possessed the vision, he said, of \\'not a black America and a white America and a Latino America and an Asian America—there is a United States of America.\\'\"\\n\\nIn a December 2006 \"Wall Street Journal\" editorial headlined \"The Man from Nowhere,\" Ronald Reagan speech writer and Fox News pundit Peggy Noonan advised \"establishment\" commentators to avoid becoming too quickly excited about Obama\\'s still-early political career. Echoing the inaugural address of John F. Kennedy, Obama acknowledged his youthful image, saying in an October 2007 campaign speech, \"I wouldn\\'t be here if, time and again, the torch had not been passed to a new generation.\"\\n\\nDuring the 2008 election season, Barack Obama\\'s experience was a topic of contention. Both Democratic and Republican politicians criticized his experience in regard to whether he was ready to be President of the United States. After his nomination the criticism was mostly from Republican politicians; many Democratic politicians stated that they believed that Obama was ready. Criticism was almost exclusively centered on his readiness for the position of commander in chief of the armed forces. Hillary Clinton often stated during her unsuccessful campaign for the Democratic nomination that Obama would not be a candidate who\\'s ready on \"Day One\". After conceding the race for the nomination, she endorsed Obama. While campaigning for president, Joe Biden said that he believed Obama was not yet ready for the job of president, but that eventually he would be ready. Biden, who went on to serve as Obama\\'s vice president, has since revised his position on Obama\\'s readiness, but his quotes from the 2008 Democratic Debates were used in campaign ads for John McCain.\\n\\nA point of contrast between Obama and his 2008 opponent John McCain was Obama\\'s perceived calm and even temperament, which was praised by former presidential candidate Senator Chris Dodd as well as numerous media sources as \"cool\" and \"unflappable\". Speaking in support of Obama in March 2008, retired Air Force Chief of Staff General Tony McPeak referred to him as \"no drama Obama\" and \"no shock Barack\". These characterizations were picked up and continued to be used months later by other commentators such as Andrew Sullivan and Arianna Huffington. Indeed, perceptions of such temperament are not without drawback, as Obama has been accused many times of not being emotional or angry enough to satisfy the public.\\n\\nObama is an avid golf enthusiast, being rated by \"Golf Digest\" as being on par with former President Bill Clinton, although lower than his predecessor George W. Bush. This follows a continuation of Presidents who play golf. In October 2009, Obama played his first game with the Director of the Domestic Policy Council for his administration, Melody Barnes. By June 2012, Obama played his 100th round of golf as President; however, this falls short of the 1,200 rounds played by President Woodrow Wilson, and the 800 rounds played by President Dwight D. Eisenhower. In one instance Obama missed the funeral of Polish President Lech Kaczynski; however, a reason given for missing the event was volcanic ash. His golfing has drawn criticism; however, Obama says that playing golf is one of the few times \"where you almost feel normal\".\\n\\nPresident Obama appeared on Vanity Fair\\'s \\'best-dressed\\' list. NBC New York named Obama one of the ten best-dressed US Presidents. He was listed as one of the fifty best-dressed people over 50 years old by the \"Guardian\" in March 2013.\\n\\nOn August 28, 2014, Obama wore a tan suit during a press conference about the United State\\'s plan regarding ISIS. This sparked controversy over the next few days, as people supported or opposed Obama\\'s decision to wear the suit. Several news outlets pointed out that other presidents, like Bill Clinton and Ronald Reagan, had also worn tan suits in the past. Still others dismissed the controversy as being trivial and overshadowing the greater implications of the press conference.\\n\\nSeveral stories in the Anglo-American news media state that a prominent part of Obama\\'s political image is a belief that Obama\\'s rhetoric and actions toward political reform are matched with a political savvy that often includes a measure of expediency. For example, reporter Ryan Lizza wrote in \"The New Yorker\", \"[Obama] campaigns on reforming a broken political process, yet he has always played politics by the rules as they exist, not as he would like them to exist.\"\\n\\n\"The Economist\" has stated that \"If Mr. Obama really were the miracle-working, aisle-jumping, consensus-seeking new breed of politician his spin-doctors make him out to be, you would expect to see the evidence in these eight years... Obama spent the whole period without any visible sign of rocking the Democratic boat.\" After Obama decided not to take public financing during his 2008 campaign, \"USA Today\" editorialized that \"Real reformers don\\'t do it just when it\\'s convenient.\" The Associated Press has stated in March 2009, that \"In office two months, he has backpedaled on an array of issues, gingerly shifting positions as circumstances dictate while ducking for political cover to avoid undercutting his credibility and authority.\"\\n\\nOpponents Clinton and McCain sharply criticized and accused Obama of elitism after he said of small-town Pennsylvanians, \"And it\\'s not surprising, then, they get bitter, they cling to guns or religion or antipathy to people who aren\\'t like them or anti-immigrant sentiment or anti-trade sentiment as a way to explain their frustrations.\" Writer Victor Davis Hansen in the National Review also commented on these remarks, and inventoried Obama\\'s elite credentials, vacation choices, fashion sense, and speech topics, including the cost of college tuition to conclude that Obama and his \"agenda\" were \"yuppie to the core.\"\\n\\nObama stated that he was raised by a single mother, in a family that had little money, and he benefited from scholarships to get his education.\\n\\nAnother allegation of elitism came from Jesse Jackson, who criticized Obama in 2007 for \"acting like he\\'s white\", in response to the Jena 6 beating case. The newspaper later reported that Jackson said he did not remember saying Obama was \"acting like he\\'s white\", but he continued to chastise the Illinois Democrat as well as the other presidential candidates for not bringing more attention to this issue. Additionally, on July 6, 2008, during an interview with Fox News, a microphone picked up Jackson whispering to fellow guest Dr. Reed Tuckson, \"See, Barack\\'s been, ahh, talking down to black people on this faith-based... I want to cut his nuts out.\" Jackson was expressing his disappointment in Obama\\'s Father\\'s Day speech chastisement of black fathers. Following his Fox News interview, Jackson apologized and reiterated his support for Obama. In June 2008, Ralph Nader made a similar \"acting white\" claim when he accused Obama of trying to \"talk white\" and appealing to white guilt in the election campaign.\\n\\nDuring the 2008 election, Obama garnered support from some Republicans and conservatives. Some commentators have labeled Republicans who supported Obama as \"Obama Republicans\" or \"Obamacans\". Gallup has conducted weekly polls of registered voters to measure support amongst the candidates. A poll conducted between October 13 and 19, 2008, showed 5% support for Barack Obama from Conservative Republicans, and 15% support from Moderate/Liberal Republicans. Obama\\'s support among Conservative Republicans peaked at 7% the week of June 16–22, 2008, and among Liberal/Moderate Republicans peaked at 21% the week of July 21–27, 2008.\\n\\nPresident Obama is present on various social media platforms, including Facebook, Twitter and Instagram. All of his accounts, except one of his Twitter accounts, are run by the staff of Organizing for Action, a nonprofit community organizing project that advocates for Obama\\'s agenda.\\n\\nOn August 29, 2012, Obama held an ask me anything session on Reddit, where he took the users\\' questions, political and otherwise, for half an hour. On January 22, 2015, he participated in the stream-live YouTube interview with the video bloggers Bethany Mota, GloZell and Hank Green, who asked him questions regarding the role of the U.S. government in the lives of young Americans. Later that year in February, President Obama talked to BuzzFeed\\'s editor-in-chief Ben Smith about his legacy, and starred in the site\\'s short video entitled \"Things Everybody Does But Doesn\\'t Talk About\" whose aim was to encourage the youth to sign up for ObamaCare. As of January 15, 2016, the video was viewed more than 60 million times. Increased activity on social media is said to be a part of the White House\\'s strategy to reach the millennial generation of Americans, who \"typically don\\'t watch or read traditional media\".\\n\\nObama set a new \"Guinness World Record\" when he joined Twitter with the @POTUS handle on May 18, 2015, and accumulated 1 million followers in four hours and fifty-two minutes, beating the previous record of 23 hours and 22 minutes by actor Robert Downey, Jr.. Obama\\'s record was later broken by Caitlyn Jenner, who accomplished this in four hours and three minutes. Unlike other social media accounts, the @POTUS account was run exclusively by Obama for the remaining duration of his presidency.\\n\\nAll 22 countries covered in a September 2008 BBC poll said they would prefer to see Senator Obama elected president ahead of John McCain. In 17 of the 22 nations, people expected relations between the United States and the rest of the world to improve if Senator Obama won. More than 22,000 people were questioned by GlobeScan in countries ranging from Canada to India and across Africa, Europe and South America. The margin in favor of Senator Obama ranged from 9% in India to 82% in Kenya (location of Obama\\'s paternal ancestry), while an average of 49% across the 22 countries preferred Senator Obama compared with 12% preferring Senator McCain. Some four in ten did not express a view.\\n\\nA similar global poll was held by \"Reader\\'s Digest\", with respondents \"overwhelmingly\" in favor of Obama from all 17 countries, including Mexico, the United Kingdom, Finland, Sweden, Indonesia and Spain. Russia gave Obama the lowest score among the countries polled, but still preferred Obama over McCain with a 35% margin. In Australia, a poll conducted in August 2008 found that over 75% of Australians wanted Obama to win the presidential election, while only 10% showed support for McCain.\\n\\nSimilar results were found in New Zealand (65% in favor of Obama, 11% in favor of McCain), Japan (49% in favor of Obama, 13% in favor of McCain), France (65% in favor of Obama, 8% in favor of McCain), Italy (70% in favor of Obama, 15% in favor of McCain), Germany (67% in favor of Obama, 6% in favor of McCain) and the Netherlands (90% in favor of Obama, 6% in favor of McCain). The only country surveyed (other than the U.S.) where McCain\\'s popularity rivaled Obama\\'s was Jordan, where 22% were in favor of Obama and 23% in favor of McCain. Obama scored higher approval ratings in all 70 countries covered in an October 2008 Gallup poll, with the most favorable scores coming from Asian and European countries.\\n\\nIn 2007, Christoph von Marschall wrote a book entitled \"Barack Obama – Der schwarze Kennedy\". The literal translation of its German title is \"Barack Obama. The Black Kennedy\". His book was a best seller in Germany, where other commentators had also made comparisons between the two politicians.\\n\\nIn addition to this, Obama has established close relationships with prominent foreign politicians and elected officials even before his presidential candidacy, notably with Tony Blair, whom he met in London in 2005, with Nicolas Sarkozy, who visited him in Washington in 2006, Kevin Rudd, who spoke with Obama by telephone from Washington, D.C., in 2008 (while Obama was campaigning elsewhere), as well as with Walter Veltroni, who was welcomed in Obama\\'s Senate office in Washington in 2005 and later wrote the introduction to Obama\\'s \"The Audacity of Hope\" Italian edition.\\n\\nGallup polls have shown that approval ratings of U.S. leadership in other countries have significantly increased since Obama took office, including a 57 percent increase in Ireland, a 41 percent increase in the United Kingdom and a 46 percent increase in Spain.\\n\\nThe results of a BBC World Service poll conducted between November 2009 and February 2010 suggest a sharp, positive, increase in the way citizens of polled countries around the world view the United States. For the first time since the Iraq War in 2003, more people around the world view the United States more positively than negatively. Director of the Program on International Policy Attitudes Steven Kull, who partnered in directing the poll, stated \"after a year, it appears the \\'Obama effect\\' is real\", referring to the fact that Obama had been in office around one year at the time the polls were taken.\\n\\nIn response to a petition and a Facebook group, Indonesian authorities are debating whether to relocate a bronze statue in Jakarta depicting Obama as a smiling 10-year-old child. The petitioners are asking that the statue be relocated to the elementary school Obama had attended as a child while living in Menteng for four years.\\n\\n\"The West Wing\" writer and producer Eli Attie based the character of Matt Santos (portrayed by Jimmy Smits) on Obama. At the time the politician was only a state senator. Obama later met Smits. Will Smith expressed interest in portraying Obama in a film, citing his physical resemblance—particularly their ears—to the President, something with which Obama concurred while discussing the possibility with Smith. A musical comedy about Obama\\'s presidential campaign, Obama on My Mind, opened in London in 2009. Actor Christopher B. Duncan portrayed Obama in 2008 on \"The Tonight Show with Jay Leno\" and in the 2010 Bollywood film \"My Name is Khan.\" Barack Obama is depicted three times in the TV series \"The Boondocks\", while in the episode, \"It\\'s a Black President, Huey Freeman\", snippets of his words are used and his superstar image is parodied. Subsequently, in the episode \"The Fried Chicken Flu\" Obama is portrayed less favorably as being rather ineffectual despite being full of rhetoric. Obama has been the subject of various impersonators, including Reggie Brown and Iman Crosson. Obama has been impersonated on the sketch show \"Saturday Night Live\" more than 60 times between 2008 and 2016, where he was parodied by first Fred Armisen and later Jay Pharoah. He did a cameo appearance on the show in 2007, when he was running for president.\\n\\nObama became a popular subject for artists during his presidential campaign. Shepard Fairey designed posters captioned \"Hope\". Alex Ross painted a portrait of Obama as Superman, tearing open his suit to reveal a shirt with an \\'O\\'-symbol, while in \"Entertainment Weekly\" he was depicted as Spider-Man opposite John McCain\\'s Batman. The association of Obama with Superman was picked up by the media and by the candidate himself: at the 2008 Al Smith Dinner, Obama joked, \"Contrary to the rumors you have heard, I was not born in a manger. I was actually born on Krypton and sent here by my father, Jor-El, to save the planet Earth.\" And \"The Washington Post\" titled two essays about the impact of Obama\\'s election by Desmond Tutu and Ta-Nehisi Coates \"The Man of Tomorrow\", referencing a frequent sobriquet of Superman. He appeared in the documentary political film directed by Leslie Carde \"America Betrayed\" (2008).\\n\\nMarvel Comics released a special Inauguration Day comic of \"The Amazing Spider-Man\" with a picture portraying Barack Obama with Spider-Man hanging upside down behind him snapping his picture, quipping, \"Hey, if you get to be on my cover, can I be on the dollar bill?\" The comic also featuring a brief story where the Chameleon attempts to pose as Obama in order to be sworn in in his place, Obama subsequently shaking Spider-Man\\'s hand in thanks and admitting that he\\'s always been a fan despite the wall-crawler\\'s negative public image. For right of publicity reasons, Marvel subsequently denied depictions of Obama as acting president in the Marvel Universe were intended to be him, and so the figure of the President always appears in shadows or from behind. Obama has been portrayed in other comic books, in the more straightforward \"Barack Obama: The Road to the White House\" by IDW (and a couple of related comics), but also as Barack The Barbarian and in \"Drafted: One Hundred Days\" by Devil\\'s Due Publishing, as a zombie hunter in Antarctic Press\\' \"President Evil\" and with the zombie killer Ash Williams in Dynamite\\'s \"Army of Darkness: Ash Saves Obama.\"\\n\\nThe controversial Obama \"Joker\" poster depicts Obama as comic book supervillain, The Joker, based on the portrayal by Heath Ledger in \"The Dark Knight\". The image, which had been described as \"shocking\" and racist, led to much surprise as the identity of its creator, 20-year-old Palestinian American university student Firas Alkhateeb, was revealed. The digitally manipulated photograph has been described as the \"most infamous anti–Obama image\", and is often used by conservative protesters and those associated with the Tea Party movement.\\n\\nBoris Johnson compared Obama to Felix Leiter (Jeffrey Wright) in \"Quantum of Solace\"; the African-American CIA ally of James Bond has a history of coming to Bond\\'s assistance whenever needed.\\n\\nObama appears in the \"Doctor Who\" special \"The End of Time\", in which the Master takes over control of his body as well as almost everyone else in the world.\\n\\nObama is referenced in American rapper Lil B\\'s 2012 mixtape, \"Obama Basedgod\".\\n\\nObama appears in the Japanese manga \"Gamble Fish\" under the name of \"King Omaha\" in which he plays in the world\\'s biggest gambling competition based in Macau.\\n\\nObama, or the likeness of him, also appears in many Japanese anime including \"Yo-kai Watch,\" \"Mr. Osomatsu, Gintama, Yatterman Night,\" \"Digimon Fusion\" and \".\"\\n\\nA younger version of Obama portrayed by Lovell Adams-Gray appears in DC\\'s Legends of Tomorrow who was targeted in his college days by Gorilla Grodd but was foiled the by Legends.\\n\\n\\n', external_source_id=None, question=None, query_score=14.047251, meta={'id': '18493804', 'url': 'https://en.wikipedia.org/wiki?curid=18493804', 'name': 'Public image of Barack Obama'}, tags=None)"
      ]
     },
     "execution_count": 6,
     "metadata": {},
     "output_type": "execute_result"
    }
   ],
   "source": [
    "docs[1]"
   ]
  },
  {
   "cell_type": "markdown",
   "metadata": {},
   "source": [
    "#### retriever (dense) - only use it as embedder"
   ]
  },
  {
   "cell_type": "code",
   "execution_count": 7,
   "metadata": {},
   "outputs": [],
   "source": [
    "from haystack.retriever.dense import DensePassageRetriever\n",
    "retriever_dense = DensePassageRetriever(document_store=document_store,\n",
    "                                  embedding_model='../models/dpr/multi_hf_bert_base.cp',\n",
    "                                  use_gpu=True,\n",
    "                                  batch_size=16,\n",
    "                                  do_lower_case=True)"
   ]
  },
  {
   "cell_type": "code",
   "execution_count": 43,
   "metadata": {},
   "outputs": [
    {
     "name": "stdout",
     "output_type": "stream",
     "text": [
      "#questions:  1\n"
     ]
    }
   ],
   "source": [
    "q_vecs = retriever_dense.embed_queries([question])\n",
    "print('#questions: ', len(q_vecs))"
   ]
  },
  {
   "cell_type": "code",
   "execution_count": 9,
   "metadata": {},
   "outputs": [
    {
     "name": "stdout",
     "output_type": "stream",
     "text": [
      "#passages:  100\n"
     ]
    }
   ],
   "source": [
    "passages = [d.text for d in docs]\n",
    "print('#passages: ', len(passages))\n",
    "p_vecs = retriever_dense.embed_passages(passages)"
   ]
  },
  {
   "cell_type": "code",
   "execution_count": 24,
   "metadata": {},
   "outputs": [],
   "source": [
    "import sys\n",
    "import numpy as np\n",
    "from os.path import join\n",
    "sys.path.insert(1, join('..', 'common'))\n",
    "from utils import get_faiss_gpu_index\n",
    "\n",
    "p_vecs_array = np.array(p_vecs)\n",
    "faiss_index = get_faiss_gpu_index(d=768)\n",
    "faiss_index.add(p_vecs_array)"
   ]
  },
  {
   "cell_type": "code",
   "execution_count": 45,
   "metadata": {},
   "outputs": [
    {
     "name": "stdout",
     "output_type": "stream",
     "text": [
      "[[ 9 36  3]]\n"
     ]
    }
   ],
   "source": [
    "DENSE_TOP_K = 3\n",
    "D, I = faiss_index.search(np.array(q_vecs), DENSE_TOP_K)\n",
    "print(I)"
   ]
  },
  {
   "cell_type": "code",
   "execution_count": 49,
   "metadata": {},
   "outputs": [
    {
     "data": {
      "text/plain": [
       "'Barack Obama (disambiguation)\\n\\nBarack Obama (born 1961) is an American attorney and politician who served as the 44th President of the United States from 2009 to 2017. \\n\\nBarack Obama may also refer to :\\n\\n\\n'"
      ]
     },
     "execution_count": 49,
     "metadata": {},
     "output_type": "execute_result"
    }
   ],
   "source": [
    "docs[9].text"
   ]
  },
  {
   "cell_type": "markdown",
   "metadata": {},
   "source": [
    "#### reader (electra-base-squad2)"
   ]
  },
  {
   "cell_type": "code",
   "execution_count": 50,
   "metadata": {},
   "outputs": [],
   "source": [
    "READER_DiR = \"../models/electra-base-squad2\"\n",
    "reader = TransformersReader(model=READER_DiR, tokenizer=READER_DiR,  use_gpu=0)"
   ]
  },
  {
   "cell_type": "code",
   "execution_count": 51,
   "metadata": {},
   "outputs": [],
   "source": [
    "candidate_docs = []\n",
    "for i in I[0]:\n",
    "    candidate_docs.append(docs[i])\n",
    "    \n",
    "prediction = reader.predict(question=question, documents=candidate_docs, top_k=1)"
   ]
  },
  {
   "cell_type": "code",
   "execution_count": 52,
   "metadata": {},
   "outputs": [
    {
     "data": {
      "text/plain": [
       "{'question': 'Who is obama?',\n",
       " 'answers': [{'answer': 'U.S. president Barack Obama.',\n",
       "   'context': 'f the paternal grandfather of U.S. president Barack Obama. She is known for short as Sar',\n",
       "   'offset_start': 152,\n",
       "   'offset_end': 180,\n",
       "   'probability': 0.9632195578607494,\n",
       "   'score': None,\n",
       "   'document_id': 'laFWUHQBdihk5qAldKdY',\n",
       "   'meta': {'id': '16335015',\n",
       "    'url': 'https://en.wikipedia.org/wiki?curid=16335015',\n",
       "    'name': 'Sarah Onyango Obama'}}]}"
      ]
     },
     "execution_count": 52,
     "metadata": {},
     "output_type": "execute_result"
    }
   ],
   "source": [
    "prediction"
   ]
  },
  {
   "cell_type": "code",
   "execution_count": null,
   "metadata": {},
   "outputs": [],
   "source": []
  }
 ],
 "metadata": {
  "kernelspec": {
   "display_name": "qa-venv",
   "language": "python",
   "name": "qa-venv"
  },
  "language_info": {
   "codemirror_mode": {
    "name": "ipython",
    "version": 3
   },
   "file_extension": ".py",
   "mimetype": "text/x-python",
   "name": "python",
   "nbconvert_exporter": "python",
   "pygments_lexer": "ipython3",
   "version": "3.7.3"
  }
 },
 "nbformat": 4,
 "nbformat_minor": 4
}
