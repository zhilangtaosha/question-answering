{
 "cells": [
  {
   "cell_type": "markdown",
   "metadata": {},
   "source": [
    "## 1. Prepare the data"
   ]
  },
  {
   "cell_type": "code",
   "execution_count": 2,
   "metadata": {},
   "outputs": [],
   "source": [
    "# Get latest Wikipedia English dump (this will take more than 4 hours)\n",
    "# ! wget \"http://download.wikimedia.org/enwiki/latest/enwiki-latest-pages-articles.xml.bz2\""
   ]
  },
  {
   "cell_type": "code",
   "execution_count": 3,
   "metadata": {},
   "outputs": [],
   "source": [
    "# Extract text using WikiExtractor (this will take about 3 hours)\n",
    "# ! python -m wikiextractor.WikiExtractor -o \"data/wikipedia/\" --json \\\n",
    "# --filter_disambig_page \\\n",
    "# --processes 8 \\\n",
    "# \"data/enwiki-latest-pages-articles.xml.bz2\""
   ]
  },
  {
   "cell_type": "markdown",
   "metadata": {},
   "source": [
    "## 2. Index wikipedia"
   ]
  },
  {
   "cell_type": "code",
   "execution_count": 1,
   "metadata": {},
   "outputs": [
    {
     "name": "stderr",
     "output_type": "stream",
     "text": [
      "09/18/2020 17:46:48 - INFO - elasticsearch -   PUT http://localhost:9200/wikipedia_100_stride_50 [status:400 request:0.004s]\n"
     ]
    }
   ],
   "source": [
    "HOST = 'localhost' \n",
    "PORT = 9200 \n",
    "INDEX_NAME = 'wikipedia_100_stride_50'\n",
    "\n",
    "from haystack import Finder\n",
    "from haystack.indexing.cleaning import clean_wiki_text\n",
    "from haystack.indexing.utils import convert_files_to_dicts, fetch_archive_from_http\n",
    "from haystack.reader.farm import FARMReader\n",
    "from haystack.reader.transformers import TransformersReader\n",
    "from haystack.utils import print_answers\n",
    "from haystack.database.elasticsearch import ElasticsearchDocumentStore\n",
    "document_store = ElasticsearchDocumentStore(host=HOST, port=PORT, username=\"\", password=\"\", index=INDEX_NAME)"
   ]
  },
  {
   "cell_type": "code",
   "execution_count": null,
   "metadata": {},
   "outputs": [],
   "source": [
    "# clear existing index (optional)\n",
    "if document_store.client.indices.exists(index=document_store.index):\n",
    "    print('clear existing inddex')\n",
    "    document_store.client.indices.delete(index=document_store.index)"
   ]
  },
  {
   "cell_type": "code",
   "execution_count": null,
   "metadata": {},
   "outputs": [],
   "source": [
    "# Get all dirs in wikipedia folder\n",
    "from os import listdir\n",
    "from os.path import isfile, join\n",
    "import json\n",
    "from tqdm import tqdm\n",
    "\n",
    "wikidata_path = \"../data/wikipedia\"\n",
    "onlydirs = [f for f in listdir(wikidata_path) if not isfile(join(wikidata_path, f))]\n",
    "\n",
    "dicts = []\n",
    "bulk_size = 5000\n",
    "\n",
    "pbar = tqdm(onlydirs)\n",
    "for directory in pbar:\n",
    "    subdirs = [f for f in listdir(join(wikidata_path,directory)) if not isfile(join(wikidata_path,directory))]\n",
    "    pbar.set_description(f\"Processing wikipedia folder {directory}\")\n",
    "\n",
    "    for file in subdirs:\n",
    "        f = open(join(wikidata_path,directory,file), \"r\") \n",
    "        \n",
    "        # Each text file contains json structures separated by EOL\n",
    "        articles = f.read().split(\"\\n\")\n",
    "        \n",
    "        for article in articles:\n",
    "            if len(article)==0: continue\n",
    "\n",
    "            # Article in json format\n",
    "            json_formatted_article = json.loads(article)\n",
    "\n",
    "            # Rename keys\n",
    "            document = {\"id\": json_formatted_article[\"id\"],\n",
    "                        \"name\": json_formatted_article[\"title\"],\n",
    "                        \"url\": json_formatted_article[\"url\"], \n",
    "                        \"text\": json_formatted_article[\"text\"]}\n",
    "\n",
    "            # Add document to bulk\n",
    "            dicts.append(document)\n",
    "            \n",
    "            if len(dicts)>=bulk_size:\n",
    "                # Index bulk\n",
    "                try:\n",
    "                    document_store.write_documents(dicts)\n",
    "                    dicts.clear()\n",
    "                except:\n",
    "                    print(\"Bulk not indexed\")\n",
    "        \n",
    "    \n",
    "if len(dicts) > 0:\n",
    "    print('final round')\n",
    "    document_store.write_documents(dicts)\n",
    "            \n",
    "print('finished')"
   ]
  },
  {
   "cell_type": "markdown",
   "metadata": {},
   "source": [
    "## 3. QA on wikipedia"
   ]
  },
  {
   "cell_type": "code",
   "execution_count": 2,
   "metadata": {},
   "outputs": [
    {
     "name": "stderr",
     "output_type": "stream",
     "text": [
      "09/18/2020 17:47:08 - INFO - elasticsearch -   PUT http://localhost:9200/wikipedia_100_stride_50 [status:400 request:0.004s]\n"
     ]
    }
   ],
   "source": [
    "HOST = 'localhost' \n",
    "PORT = 9200 \n",
    "INDEX_NAME = 'wikipedia_100_stride_50'\n",
    "\n",
    "from haystack import Finder\n",
    "from haystack.reader.transformers import TransformersReader\n",
    "from haystack.utils import print_answers\n",
    "from haystack.database.elasticsearch import ElasticsearchDocumentStore\n",
    "document_store = ElasticsearchDocumentStore(host=HOST, port=PORT, username=\"\", password=\"\", index=INDEX_NAME)"
   ]
  },
  {
   "cell_type": "code",
   "execution_count": 3,
   "metadata": {},
   "outputs": [],
   "source": [
    "from haystack.retriever.sparse import ElasticsearchRetriever\n",
    "retriever = ElasticsearchRetriever(document_store=document_store)\n",
    "READER_DiR = \"../models/roberta-base-squad2\"\n",
    "READER_DiR = \"../models/electra-base-squad2\"\n",
    "reader = TransformersReader(model=READER_DiR, tokenizer=READER_DiR,  use_gpu=0)"
   ]
  },
  {
   "cell_type": "code",
   "execution_count": 4,
   "metadata": {},
   "outputs": [],
   "source": [
    "import logging\n",
    "logging.disable(logging.WARNING)\n",
    "finder = Finder(reader, retriever)\n",
    "prediction = finder.get_answers(question=\"who is the father of Arya Stark\", \n",
    "                                top_k_retriever=10, \n",
    "                                top_k_reader=3)"
   ]
  },
  {
   "cell_type": "code",
   "execution_count": 5,
   "metadata": {},
   "outputs": [
    {
     "name": "stdout",
     "output_type": "stream",
     "text": [
      "{   'answers': [   {   'answer': 'Lord Eddard Stark,',\n",
      "                       'context': 'the Hand to honour her father Lord Eddard '\n",
      "                                  'Stark, Sansa Stark is enchanted by t',\n",
      "                       'document_id': 'sBXkiHQBc6r1xEMRXkLv',\n",
      "                       'meta': {   'id': '1183383',\n",
      "                                   'name': 'Sansa Stark',\n",
      "                                   'segment_id': 10,\n",
      "                                   'url': 'https://en.wikipedia.org/wiki?curid=1183383'},\n",
      "                       'offset_end': 504,\n",
      "                       'offset_start': 486,\n",
      "                       'probability': 0.9655782551513105,\n",
      "                       'score': None},\n",
      "                   {   'answer': 'King Robert.',\n",
      "                       'context': 'ey lacks a father figure from King Robert. '\n",
      "                                  'While escorting Sansa home, h',\n",
      "                       'document_id': 'KahJiXQBc6r1xEMR94mw',\n",
      "                       'meta': {   'id': '2492086',\n",
      "                                   'name': 'Sandor Clegane',\n",
      "                                   'segment_id': 7,\n",
      "                                   'url': 'https://en.wikipedia.org/wiki?curid=2492086'},\n",
      "                       'offset_end': 303,\n",
      "                       'offset_start': 291,\n",
      "                       'probability': 0.6672244023977644,\n",
      "                       'score': None},\n",
      "                   {   'answer': 'Lord Eddard Stark and his wife Lady Catelyn '\n",
      "                                 'Stark.',\n",
      "                       'context': 'child and younger daughter of Lord Eddard '\n",
      "                                  'Stark and his wife Lady Catelyn Stark. She '\n",
      "                                  'is tomboyish, headstrong,',\n",
      "                       'document_id': 'y3v-iHQBc6r1xEMRDbTg',\n",
      "                       'meta': {   'id': '41374178',\n",
      "                                   'name': 'Arya Stark',\n",
      "                                   'segment_id': 0,\n",
      "                                   'url': 'https://en.wikipedia.org/wiki?curid=41374178'},\n",
      "                       'offset_end': 469,\n",
      "                       'offset_start': 419,\n",
      "                       'probability': 0.3721010723017747,\n",
      "                       'score': None}],\n",
      "    'question': 'who is the father of Arya Stark'}\n"
     ]
    }
   ],
   "source": [
    "print_answers(prediction)"
   ]
  },
  {
   "cell_type": "code",
   "execution_count": 9,
   "metadata": {},
   "outputs": [],
   "source": [
    "docs = retriever.retrieve('who is the father of Arya Stark', top_k=3)"
   ]
  },
  {
   "cell_type": "code",
   "execution_count": 10,
   "metadata": {},
   "outputs": [
    {
     "data": {
      "text/plain": [
       "Document(id='sBXkiHQBc6r1xEMRXkLv', text=\"Sansa are walking through the woods, Joffrey notices Arya sparring with the butcher's boy, Mycah. A fight breaks out and Joffrey is attacked by Nymeria (Arya's direwolf) after Joffrey threatens to hurt Arya. Sansa lies to King Robert about the circumstances of the fight in order to protect both Joffrey and her sister Arya. Since Arya ran off with her wolf to save it, Sansa's wolf is killed instead, estranging the Stark daughters. During the Tourney of the Hand to honour her father Lord Eddard Stark, Sansa Stark is enchanted by the knights performing in the event. At the request\", external_source_id=None, question=None, query_score=32.162544, meta={'id': '1183383', 'url': 'https://en.wikipedia.org/wiki?curid=1183383', 'segment_id': 10, 'name': 'Sansa Stark'}, tags=None)"
      ]
     },
     "execution_count": 10,
     "metadata": {},
     "output_type": "execute_result"
    }
   ],
   "source": [
    "docs[0]"
   ]
  },
  {
   "cell_type": "code",
   "execution_count": null,
   "metadata": {},
   "outputs": [],
   "source": []
  }
 ],
 "metadata": {
  "kernelspec": {
   "display_name": "Python 3",
   "language": "python",
   "name": "python3"
  },
  "language_info": {
   "codemirror_mode": {
    "name": "ipython",
    "version": 3
   },
   "file_extension": ".py",
   "mimetype": "text/x-python",
   "name": "python",
   "nbconvert_exporter": "python",
   "pygments_lexer": "ipython3",
   "version": "3.7.8"
  }
 },
 "nbformat": 4,
 "nbformat_minor": 4
}
