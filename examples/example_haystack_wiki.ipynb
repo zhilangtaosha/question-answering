{
 "cells": [
  {
   "cell_type": "markdown",
   "metadata": {},
   "source": [
    "## 1. Prepare the data"
   ]
  },
  {
   "cell_type": "code",
   "execution_count": 2,
   "metadata": {},
   "outputs": [],
   "source": [
    "# Get latest Wikipedia English dump (this will take more than 4 hours)\n",
    "# ! wget \"http://download.wikimedia.org/enwiki/latest/enwiki-latest-pages-articles.xml.bz2\""
   ]
  },
  {
   "cell_type": "code",
   "execution_count": 3,
   "metadata": {},
   "outputs": [],
   "source": [
    "# Extract text using WikiExtractor (this will take about 3 hours)\n",
    "! python -m wikiextractor.WikiExtractor -o \"data/wikipedia/\" --json \\\n",
    "--filter_disambig_page \\\n",
    "--processes 8 \\\n",
    "\"data/enwiki-latest-pages-articles.xml.bz2\""
   ]
  },
  {
   "cell_type": "code",
   "execution_count": null,
   "metadata": {},
   "outputs": [],
   "source": []
  }
 ],
 "metadata": {
  "kernelspec": {
   "display_name": "qa-venv",
   "language": "python",
   "name": "qa-venv"
  },
  "language_info": {
   "codemirror_mode": {
    "name": "ipython",
    "version": 3
   },
   "file_extension": ".py",
   "mimetype": "text/x-python",
   "name": "python",
   "nbconvert_exporter": "python",
   "pygments_lexer": "ipython3",
   "version": "3.7.3"
  }
 },
 "nbformat": 4,
 "nbformat_minor": 4
}
