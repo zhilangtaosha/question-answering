{
 "cells": [
  {
   "cell_type": "markdown",
   "metadata": {},
   "source": [
    "## 1. Prepare the data"
   ]
  },
  {
   "cell_type": "code",
   "execution_count": 2,
   "metadata": {},
   "outputs": [],
   "source": [
    "# Get latest Wikipedia English dump (this will take more than 4 hours)\n",
    "# ! wget \"http://download.wikimedia.org/enwiki/latest/enwiki-latest-pages-articles.xml.bz2\""
   ]
  },
  {
   "cell_type": "code",
   "execution_count": 3,
   "metadata": {},
   "outputs": [],
   "source": [
    "# Extract text using WikiExtractor (this will take about 3 hours)\n",
    "# ! python -m wikiextractor.WikiExtractor -o \"data/wikipedia/\" --json \\\n",
    "# --filter_disambig_page \\\n",
    "# --processes 8 \\\n",
    "# \"data/enwiki-latest-pages-articles.xml.bz2\""
   ]
  },
  {
   "cell_type": "markdown",
   "metadata": {},
   "source": [
    "## 2. Index wikipedia"
   ]
  },
  {
   "cell_type": "code",
   "execution_count": 1,
   "metadata": {},
   "outputs": [
    {
     "name": "stderr",
     "output_type": "stream",
     "text": [
      "09/05/2020 10:27:07 - INFO - elasticsearch -   PUT http://localhost:9200/wikipedia_en [status:400 request:0.003s]\n"
     ]
    }
   ],
   "source": [
    "HOST = 'localhost' \n",
    "PORT = 9200 \n",
    "INDEX_NAME = 'wikipedia_en'\n",
    "\n",
    "from haystack import Finder\n",
    "from haystack.indexing.cleaning import clean_wiki_text\n",
    "from haystack.indexing.utils import convert_files_to_dicts, fetch_archive_from_http\n",
    "from haystack.reader.farm import FARMReader\n",
    "from haystack.reader.transformers import TransformersReader\n",
    "from haystack.utils import print_answers\n",
    "from haystack.database.elasticsearch import ElasticsearchDocumentStore\n",
    "document_store = ElasticsearchDocumentStore(host=HOST, port=PORT, username=\"\", password=\"\", index=INDEX_NAME)"
   ]
  },
  {
   "cell_type": "code",
   "execution_count": null,
   "metadata": {},
   "outputs": [],
   "source": [
    "# clear existing index (optional)\n",
    "if document_store.client.indices.exists(index=document_store.index):\n",
    "    print('clear existing inddex')\n",
    "    document_store.client.indices.delete(index=document_store.index)"
   ]
  },
  {
   "cell_type": "code",
   "execution_count": null,
   "metadata": {},
   "outputs": [],
   "source": [
    "# Get all dirs in wikipedia folder\n",
    "from os import listdir\n",
    "from os.path import isfile, join\n",
    "import json\n",
    "from tqdm import tqdm\n",
    "\n",
    "wikidata_path = \"../data/wikipedia\"\n",
    "onlydirs = [f for f in listdir(wikidata_path) if not isfile(join(wikidata_path, f))]\n",
    "\n",
    "dicts = []\n",
    "bulk_size = 5000\n",
    "\n",
    "pbar = tqdm(onlydirs)\n",
    "for directory in pbar:\n",
    "    subdirs = [f for f in listdir(join(wikidata_path,directory)) if not isfile(join(wikidata_path,directory))]\n",
    "    pbar.set_description(f\"Processing wikipedia folder {directory}\")\n",
    "\n",
    "    for file in subdirs:\n",
    "        f = open(join(wikidata_path,directory,file), \"r\") \n",
    "        \n",
    "        # Each text file contains json structures separated by EOL\n",
    "        articles = f.read().split(\"\\n\")\n",
    "        \n",
    "        for article in articles:\n",
    "            if len(article)==0: continue\n",
    "\n",
    "            # Article in json format\n",
    "            json_formatted_article = json.loads(article)\n",
    "\n",
    "            # Rename keys\n",
    "            document = {\"id\": json_formatted_article[\"id\"],\n",
    "                        \"name\": json_formatted_article[\"title\"],\n",
    "                        \"url\": json_formatted_article[\"url\"], \n",
    "                        \"text\": json_formatted_article[\"text\"]}\n",
    "\n",
    "            # Add document to bulk\n",
    "            dicts.append(document)\n",
    "            \n",
    "            if len(dicts)>=bulk_size:\n",
    "                # Index bulk\n",
    "                try:\n",
    "                    document_store.write_documents(dicts)\n",
    "                    dicts.clear()\n",
    "                except:\n",
    "                    print(\"Bulk not indexed\")\n",
    "        \n",
    "    \n",
    "if len(dicts) > 0:\n",
    "    print('final round')\n",
    "    document_store.write_documents(dicts)\n",
    "            \n",
    "print('finished')"
   ]
  },
  {
   "cell_type": "markdown",
   "metadata": {},
   "source": [
    "## 3. QA on wikipedia"
   ]
  },
  {
   "cell_type": "code",
   "execution_count": 2,
   "metadata": {},
   "outputs": [
    {
     "name": "stderr",
     "output_type": "stream",
     "text": [
      "09/05/2020 10:27:35 - INFO - elasticsearch -   PUT http://localhost:9200/wikipedia_en [status:400 request:0.003s]\n"
     ]
    }
   ],
   "source": [
    "HOST = 'localhost' \n",
    "PORT = 9200 \n",
    "INDEX_NAME = 'wikipedia_en'\n",
    "\n",
    "from haystack import Finder\n",
    "from haystack.reader.transformers import TransformersReader\n",
    "from haystack.utils import print_answers\n",
    "from haystack.database.elasticsearch import ElasticsearchDocumentStore\n",
    "document_store = ElasticsearchDocumentStore(host=HOST, port=PORT, username=\"\", password=\"\", index=INDEX_NAME)"
   ]
  },
  {
   "cell_type": "code",
   "execution_count": 3,
   "metadata": {},
   "outputs": [],
   "source": [
    "from haystack.retriever.sparse import ElasticsearchRetriever\n",
    "retriever = ElasticsearchRetriever(document_store=document_store)\n",
    "READER_DiR = \"../models/roberta-base-squad2\"\n",
    "READER_DiR = \"../models/electra-base-squad2\"\n",
    "reader = TransformersReader(model=READER_DiR, tokenizer=READER_DiR,  use_gpu=0)"
   ]
  },
  {
   "cell_type": "code",
   "execution_count": 6,
   "metadata": {},
   "outputs": [],
   "source": [
    "import logging\n",
    "logging.disable(logging.WARNING)\n",
    "finder = Finder(reader, retriever)\n",
    "prediction = finder.get_answers(question=\"who is the father of Arya Stark\", \n",
    "                                top_k_retriever=10, \n",
    "                                top_k_reader=3)"
   ]
  },
  {
   "cell_type": "code",
   "execution_count": 7,
   "metadata": {},
   "outputs": [
    {
     "name": "stdout",
     "output_type": "stream",
     "text": [
      "{   'answers': [   {   'answer': 'Robert Baratheon.',\n",
      "                       'context': ' her he is the bastard son of Robert '\n",
      "                                  'Baratheon. Aware of their chances of dyi',\n",
      "                       'document_id': 'ErxhUHQBdihk5qAljEng',\n",
      "                       'meta': {   'id': '41374178',\n",
      "                                   'name': 'Arya Stark',\n",
      "                                   'url': 'https://en.wikipedia.org/wiki?curid=41374178'},\n",
      "                       'offset_end': 20868,\n",
      "                       'offset_start': 20851,\n",
      "                       'probability': 0.9908403659626074,\n",
      "                       'score': None},\n",
      "                   {   'answer': 'Ned',\n",
      "                       'context': '.\\n'\n",
      "                                  'Arya accompanies her father Ned and her '\n",
      "                                  \"sister Sansa to King'\",\n",
      "                       'document_id': 'ErxhUHQBdihk5qAljEng',\n",
      "                       'meta': {   'id': '41374178',\n",
      "                                   'name': 'Arya Stark',\n",
      "                                   'url': 'https://en.wikipedia.org/wiki?curid=41374178'},\n",
      "                       'offset_end': 11940,\n",
      "                       'offset_start': 11937,\n",
      "                       'probability': 0.9825380494151397,\n",
      "                       'score': None},\n",
      "                   {   'answer': 'Gregor Clegane,',\n",
      "                       'context': 'd, was the younger brother of Gregor '\n",
      "                                  'Clegane, and was a retainer to House L',\n",
      "                       'document_id': 'E49OUHQBdihk5qAl-qXq',\n",
      "                       'meta': {   'id': '2492086',\n",
      "                                   'name': 'Sandor Clegane',\n",
      "                                   'url': 'https://en.wikipedia.org/wiki?curid=2492086'},\n",
      "                       'offset_end': 1176,\n",
      "                       'offset_start': 1161,\n",
      "                       'probability': 0.9153290417341731,\n",
      "                       'score': None}],\n",
      "    'question': 'who is the father of Arya Stark'}\n"
     ]
    }
   ],
   "source": [
    "print_answers(prediction)"
   ]
  },
  {
   "cell_type": "code",
   "execution_count": null,
   "metadata": {},
   "outputs": [],
   "source": []
  }
 ],
 "metadata": {
  "kernelspec": {
   "display_name": "qa-venv",
   "language": "python",
   "name": "qa-venv"
  },
  "language_info": {
   "codemirror_mode": {
    "name": "ipython",
    "version": 3
   },
   "file_extension": ".py",
   "mimetype": "text/x-python",
   "name": "python",
   "nbconvert_exporter": "python",
   "pygments_lexer": "ipython3",
   "version": "3.7.3"
  }
 },
 "nbformat": 4,
 "nbformat_minor": 4
}
