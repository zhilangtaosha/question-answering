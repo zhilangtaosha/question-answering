{
 "cells": [
  {
   "cell_type": "markdown",
   "metadata": {},
   "source": [
    "## 1. Download GoT data"
   ]
  },
  {
   "cell_type": "code",
   "execution_count": 2,
   "metadata": {
    "collapsed": true
   },
   "outputs": [
    {
     "name": "stdout",
     "output_type": "stream",
     "text": [
      "--2020-09-02 18:04:55--  https://s3.eu-central-1.amazonaws.com/deepset.ai-farm-qa/datasets/documents/wiki_gameofthrones_txt.zip\n",
      "Resolving s3.eu-central-1.amazonaws.com (s3.eu-central-1.amazonaws.com)... 52.219.140.7\n",
      "Connecting to s3.eu-central-1.amazonaws.com (s3.eu-central-1.amazonaws.com)|52.219.140.7|:443... connected.\n",
      "HTTP request sent, awaiting response... 200 OK\n",
      "Length: 1095120 (1.0M) [application/zip]\n",
      "Saving to: ‘wiki_gameofthrones_txt.zip’\n",
      "\n",
      "wiki_gameofthrones_ 100%[===================>]   1.04M  --.-KB/s    in 0.1s    \n",
      "\n",
      "2020-09-02 18:04:55 (7.02 MB/s) - ‘wiki_gameofthrones_txt.zip’ saved [1095120/1095120]\n",
      "\n",
      "Archive:  wiki_gameofthrones_txt.zip\n",
      "  inflating: ../data/article_txt_got/299_Rani_Mahal__TV_series_.txt  \n",
      "  inflating: ../data/article_txt_got/133_Game_of_Thrones__Season_5__soundtrack_.txt  \n",
      "  inflating: ../data/article_txt_got/135_Game_of_Thrones__Season_7__soundtrack_.txt  \n",
      "  inflating: ../data/article_txt_got/26_Game_of_Thrones__Season_3__soundtrack_.txt  \n",
      "  inflating: ../data/article_txt_got/399_For_the_Throne__Music_Inspired_by_the_HBO_Series_Game_of_Thrones.txt  \n",
      "  inflating: ../data/article_txt_got/365_A_Song_of_Ice_and_Fire_Roleplaying.txt  \n",
      "  inflating: ../data/article_txt_got/52_Catch_the_Throne.txt  \n",
      "  inflating: ../data/article_txt_got/27_Game_of_Thrones__Season_4__soundtrack_.txt  \n",
      "  inflating: ../data/article_txt_got/136_Game_of_Thrones__Season_8__soundtrack_.txt  \n",
      "  inflating: ../data/article_txt_got/148_Game_of_Thrones__Winter_Is_Coming.txt  \n",
      "  inflating: ../data/article_txt_got/358_A_Game_of_Thrones__Genesis.txt  \n",
      "  inflating: ../data/article_txt_got/134_Game_of_Thrones__Season_6__soundtrack_.txt  \n",
      "  inflating: ../data/article_txt_got/25_Game_of_Thrones__Season_2__soundtrack_.txt  \n",
      "  inflating: ../data/article_txt_got/21_The_Bear_and_the_Maiden_Fair__song_.txt  \n",
      "  inflating: ../data/article_txt_got/85_Game_of_Thrones__Seven_Kingdoms.txt  \n",
      "  inflating: ../data/article_txt_got/401_Power_Is_Power.txt  \n",
      "  inflating: ../data/article_txt_got/475_A_Game_of_Thrones__role-playing_game_.txt  \n",
      "  inflating: ../data/article_txt_got/228_Souad_Faress.txt  \n",
      "  inflating: ../data/article_txt_got/146_The_Sons_of_the_Dragon.txt  \n",
      "  inflating: ../data/article_txt_got/102_The_Princess_and_the_Queen.txt  \n",
      "  inflating: ../data/article_txt_got/504_List_of_A_Song_of_Ice_and_Fire_video_games.txt  \n",
      "  inflating: ../data/article_txt_got/508_A_Game_of_Thrones__Second_Edition__card_game_.txt  \n",
      "  inflating: ../data/article_txt_got/77_Game_of_Thrones_Ascent.txt  \n",
      "  inflating: ../data/article_txt_got/511_After_the_Thrones.txt  \n",
      "  inflating: ../data/article_txt_got/22_The_Rains_of_Castamere__song_.txt  \n",
      "  inflating: ../data/article_txt_got/145_Elio_M._García_Jr._and_Linda_Antonsson.txt  \n",
      "  inflating: ../data/article_txt_got/403_Jenny_of_Oldstones.txt  \n",
      "  inflating: ../data/article_txt_got/359_Kill_the_Boy.txt  \n",
      "  inflating: ../data/article_txt_got/495_Hodor.txt  \n",
      "  inflating: ../data/article_txt_got/209_Mockingbird__Game_of_Thrones_.txt  \n",
      "  inflating: ../data/article_txt_got/57_The_Laws_of_Gods_and_Men.txt  \n",
      "  inflating: ../data/article_txt_got/56_First_of_His_Name.txt  \n",
      "  inflating: ../data/article_txt_got/24_Game_of_Thrones__Season_1__soundtrack_.txt  \n",
      "  inflating: ../data/article_txt_got/210_The_Mountain_and_the_Viper.txt  \n",
      "  inflating: ../data/article_txt_got/346_Ygritte.txt  \n",
      "  inflating: ../data/article_txt_got/73_A_Man_Without_Honor.txt  \n",
      "  inflating: ../data/article_txt_got/345_A_Game_of_Thrones__comics_.txt  \n",
      "  inflating: ../data/article_txt_got/101_Titties_and_Dragons.txt  \n",
      "  inflating: ../data/article_txt_got/99_A_Song_of_Ass_and_Fire.txt  \n",
      "  inflating: ../data/article_txt_got/232_Tommen_Baratheon.txt  \n",
      "  inflating: ../data/article_txt_got/118_Dark_Wings__Dark_Words.txt  \n",
      "  inflating: ../data/article_txt_got/74_The_Prince_of_Winterfell.txt  \n",
      "  inflating: ../data/article_txt_got/79_Thronecast.txt  \n",
      "  inflating: ../data/article_txt_got/160_Viserys_Targaryen.txt  \n",
      "  inflating: ../data/article_txt_got/20_Light_of_the_Seven.txt  \n",
      "  inflating: ../data/article_txt_got/54_Two_Swords__Game_of_Thrones_.txt  \n",
      "  inflating: ../data/article_txt_got/127_The_Climb__Game_of_Thrones_.txt  \n",
      "  inflating: ../data/article_txt_got/501_Khal_Drogo.txt  \n",
      "  inflating: ../data/article_txt_got/211_The_Watchers_on_the_Wall.txt  \n",
      "  inflating: ../data/article_txt_got/76_Valar_Morghulis.txt  \n",
      "  inflating: ../data/article_txt_got/39_Renly_Baratheon.txt  \n",
      "  inflating: ../data/article_txt_got/151_Ellaria_Sand.txt  \n",
      "  inflating: ../data/article_txt_got/330_Oberyn_Martell.txt  \n",
      "  inflating: ../data/article_txt_got/51_Iron_Throne__A_Song_of_Ice_and_Fire_.txt  \n",
      "  inflating: ../data/article_txt_got/485_Oathkeeper.txt  \n",
      "  inflating: ../data/article_txt_got/129_Second_Sons.txt  \n",
      "  inflating: ../data/article_txt_got/273_High_Sparrow.txt  \n",
      "  inflating: ../data/article_txt_got/233_Myrcella_Baratheon.txt  \n",
      "  inflating: ../data/article_txt_got/262_Gilly__character_.txt  \n",
      "  inflating: ../data/article_txt_got/506_Game_of_Thrones_Theme.txt  \n",
      "  inflating: ../data/article_txt_got/367_Gregor_Clegane.txt  \n",
      "  inflating: ../data/article_txt_got/214_Dothraki_language.txt  \n",
      "  inflating: ../data/article_txt_got/98_Black_Friday__South_Park_.txt  \n",
      "  inflating: ../data/article_txt_got/212_The_Children__Game_of_Thrones_.txt  \n",
      "  inflating: ../data/article_txt_got/343_Catelyn_Stark.txt  \n",
      "  inflating: ../data/article_txt_got/217_The_Rogue_Prince.txt  \n",
      "  inflating: ../data/article_txt_got/329_Robert_Baratheon.txt  \n",
      "  inflating: ../data/article_txt_got/400_Winterfell__Game_of_Thrones_episode_.txt  \n",
      "  inflating: ../data/article_txt_got/435_White_Walker.txt  \n",
      "  inflating: ../data/article_txt_got/402_A_Knight_of_the_Seven_Kingdoms__Game_of_Thrones_.txt  \n",
      "  inflating: ../data/article_txt_got/334_Rickon_Stark.txt  \n",
      "  inflating: ../data/article_txt_got/408_The_Last_of_the_Starks.txt  \n",
      "  inflating: ../data/article_txt_got/120_And_Now_His_Watch_Is_Ended.txt  \n",
      "  inflating: ../data/article_txt_got/126_Kissed_by_Fire.txt  \n",
      "  inflating: ../data/article_txt_got/443_The_Kingsroad.txt  \n",
      "  inflating: ../data/article_txt_got/119_Walk_of_Punishment.txt  \n",
      "  inflating: ../data/article_txt_got/68_The_Gift__Game_of_Thrones_.txt  \n",
      "  inflating: ../data/article_txt_got/474_Bronn__character_.txt  \n",
      "  inflating: ../data/article_txt_got/80_A_Song_of_Ice_and_Fire_fandom.txt  \n",
      "  inflating: ../data/article_txt_got/218_Olenna_Tyrell.txt  \n",
      "  inflating: ../data/article_txt_got/23_Game_of_Thrones_Live_Concert_Experience.txt  \n",
      "  inflating: ../data/article_txt_got/37_Joffrey_Baratheon.txt  \n",
      "  inflating: ../data/article_txt_got/452_Fire_and_Blood__Game_of_Thrones_.txt  \n",
      "  inflating: ../data/article_txt_got/469_Outline_of_A_Song_of_Ice_and_Fire_franchise.txt  \n",
      "  inflating: ../data/article_txt_got/55_Breaker_of_Chains.txt  \n",
      "  inflating: ../data/article_txt_got/131_Mhysa.txt  \n",
      "  inflating: ../data/article_txt_got/424_Night_King.txt  \n",
      "  inflating: ../data/article_txt_got/447_You_Win_or_You_Die.txt  \n",
      "  inflating: ../data/article_txt_got/224_The_Night_Lands.txt  \n",
      "  inflating: ../data/article_txt_got/121_The_Bear_and_the_Maiden_Fair.txt  \n",
      "  inflating: ../data/article_txt_got/411_The_Iron_Throne__Game_of_Thrones_.txt  \n",
      "  inflating: ../data/article_txt_got/453_Game_of_Thrones__2012_video_game_.txt  \n",
      "  inflating: ../data/article_txt_got/304_Hardhome.txt  \n",
      "  inflating: ../data/article_txt_got/78_The_Rains_of_Castamere.txt  \n",
      "  inflating: ../data/article_txt_got/33_David_Benioff.txt  \n",
      "  inflating: ../data/article_txt_got/263_Tormund_Giantsbane.txt  \n",
      "  inflating: ../data/article_txt_got/445_The_Wolf_and_the_Lion.txt  \n",
      "  inflating: ../data/article_txt_got/193_Lord_Snow.txt  \n",
      "  inflating: ../data/article_txt_got/444_Cripples__Bastards__and_Broken_Things.txt  \n",
      "  inflating: ../data/article_txt_got/378_A_Game_of_Thrones__board_game_.txt  \n",
      "  inflating: ../data/article_txt_got/2_Stormborn.txt  \n",
      "  inflating: ../data/article_txt_got/446_A_Golden_Crown.txt  \n",
      "  inflating: ../data/article_txt_got/449_The_Pointy_End.txt  \n",
      "  inflating: ../data/article_txt_got/360_List_of_Game_of_Thrones_episodes.txt  \n",
      "  inflating: ../data/article_txt_got/191_Gendry.txt  \n",
      "  inflating: ../data/article_txt_got/480_Varys.txt  \n",
      "  inflating: ../data/article_txt_got/407_The_Long_Night__Game_of_Thrones_.txt  \n",
      "  inflating: ../data/article_txt_got/67_Unbowed__Unbent__Unbroken.txt  \n",
      "  inflating: ../data/article_txt_got/130_Game_of_Thrones_title_sequence.txt  \n",
      "  inflating: ../data/article_txt_got/348_The_Winds_of_Winter.txt  \n",
      "  inflating: ../data/article_txt_got/481_Sandor_Clegane.txt  \n",
      "  inflating: ../data/article_txt_got/9_Game_of_Thrones_Tapestry.txt  \n",
      "  inflating: ../data/article_txt_got/154_Margaery_Tyrell.txt  \n",
      "  inflating: ../data/article_txt_got/394_Game_of_Thrones__2014_video_game_.txt  \n",
      "  inflating: ../data/article_txt_got/450_Baelor.txt  \n",
      "  inflating: ../data/article_txt_got/75_Blackwater__Game_of_Thrones_.txt  \n",
      "  inflating: ../data/article_txt_got/439_Melisandre.txt  \n",
      "  inflating: ../data/article_txt_got/28_Jorah_Mormont.txt  \n",
      "  inflating: ../data/article_txt_got/3_The_Queen_s_Justice.txt  \n",
      "  inflating: ../data/article_txt_got/87_Valar_Dohaeris.txt  \n",
      "  inflating: ../data/article_txt_got/373_Tywin_Lannister.txt  \n",
      "  inflating: ../data/article_txt_got/340_Roose_Bolton.txt  \n",
      "  inflating: ../data/article_txt_got/1_Dragonstone__Game_of_Thrones_episode_.txt  \n",
      "  inflating: ../data/article_txt_got/53_The_Lion_and_the_Rose.txt  \n",
      "  inflating: ../data/article_txt_got/198_A_Clash_of_Kings.txt  \n",
      "  inflating: ../data/article_txt_got/514_Book_of_the_Stranger.txt  \n",
      "  inflating: ../data/article_txt_got/197_A_Game_of_Thrones.txt  \n",
      "  inflating: ../data/article_txt_got/379_Davos_Seaworth.txt  \n",
      "  inflating: ../data/article_txt_got/341_Ned_Stark.txt  \n",
      "  inflating: ../data/article_txt_got/306_The_Dance_of_Dragons.txt  \n",
      "  inflating: ../data/article_txt_got/342_Theon_Greyjoy.txt  \n",
      "  inflating: ../data/article_txt_got/69_The_Red_Woman.txt  \n",
      "  inflating: ../data/article_txt_got/208_Robb_Stark.txt  \n",
      "  inflating: ../data/article_txt_got/512_Home__Game_of_Thrones_.txt  \n",
      "  inflating: ../data/article_txt_got/482_Petyr_Baelish.txt  \n",
      "  inflating: ../data/article_txt_got/362_Winter_Is_Coming.txt  \n",
      "  inflating: ../data/article_txt_got/331_Bran_Stark.txt  \n",
      "  inflating: ../data/article_txt_got/8_Eastwatch.txt  \n",
      "  inflating: ../data/article_txt_got/356_Tales_of_Dunk_and_Egg.txt  \n",
      "  inflating: ../data/article_txt_got/454_Music_of_Game_of_Thrones.txt  \n",
      "  inflating: ../data/article_txt_got/310_Mother_s_Mercy.txt  \n",
      "  inflating: ../data/article_txt_got/513_Oathbreaker__Game_of_Thrones_.txt  \n",
      "  inflating: ../data/article_txt_got/369_Samwell_Tarly.txt  \n",
      "  inflating: ../data/article_txt_got/487_Ramsay_Bolton.txt  \n",
      "  inflating: ../data/article_txt_got/11_The_Dragon_and_the_Wolf.txt  \n",
      "  inflating: ../data/article_txt_got/10_Beyond_the_Wall__Game_of_Thrones_.txt  \n",
      "  inflating: ../data/article_txt_got/410_The_Bells__Game_of_Thrones_.txt  \n",
      "  inflating: ../data/article_txt_got/202_A_Feast_for_Crows.txt  \n",
      "  inflating: ../data/article_txt_got/199_A_Storm_of_Swords.txt  \n",
      "  inflating: ../data/article_txt_got/317_The_Broken_Man.txt  \n",
      "  inflating: ../data/article_txt_got/456_Works_based_on_A_Song_of_Ice_and_Fire.txt  \n",
      "  inflating: ../data/article_txt_got/40_Stannis_Baratheon.txt  \n",
      "  inflating: ../data/article_txt_got/12_Fire.txt  \n",
      "  inflating: ../data/article_txt_got/420_Blood_of_My_Blood.txt  \n",
      "  inflating: ../data/article_txt_got/488_Brienne_of_Tarth.txt  \n",
      "  inflating: ../data/article_txt_got/213_Valyrian_languages.txt  \n",
      "  inflating: ../data/article_txt_got/7_The_Spoils_of_War__Game_of_Thrones_.txt  \n",
      "  inflating: ../data/article_txt_got/515_The_Door__Game_of_Thrones_.txt  \n",
      "  inflating: ../data/article_txt_got/371_Cersei_Lannister.txt  \n",
      "  inflating: ../data/article_txt_got/0_Game_of_Thrones__season_8_.txt  \n",
      "  inflating: ../data/article_txt_got/311_Game_of_Thrones__season_7_.txt  \n",
      "  inflating: ../data/article_txt_got/442_Game_of_Thrones__season_1_.txt  \n",
      "  inflating: ../data/article_txt_got/43_Arya_Stark.txt  \n",
      "  inflating: ../data/article_txt_got/425_No_One__Game_of_Thrones_.txt  \n",
      "  inflating: ../data/article_txt_got/368_Jaime_Lannister.txt  \n",
      "  inflating: ../data/article_txt_got/86_Game_of_Thrones__season_4_.txt  \n",
      "  inflating: ../data/article_txt_got/347_Game_of_Thrones__season_2_.txt  \n",
      "  inflating: ../data/article_txt_got/395_Game_of_Thrones__season_5_.txt  \n",
      "  inflating: ../data/article_txt_got/460_Battle_of_the_Bastards.txt  \n",
      "  inflating: ../data/article_txt_got/477_A_Dance_with_Dragons.txt  \n",
      "  inflating: ../data/article_txt_got/396_Game_of_Thrones__season_6_.txt  \n",
      "  inflating: ../data/article_txt_got/461_The_Winds_of_Winter__Game_of_Thrones_.txt  \n",
      "  inflating: ../data/article_txt_got/207_Jon_Snow__character_.txt  \n",
      "  inflating: ../data/article_txt_got/44_Daenerys_Targaryen.txt  \n",
      "  inflating: ../data/article_txt_got/97_Tyrion_Lannister.txt  \n",
      "  inflating: ../data/article_txt_got/332_Sansa_Stark.txt  \n",
      "  inflating: ../data/article_txt_got/201_A_Game_of_Thrones__card_game_.txt  \n",
      "  inflating: ../data/article_txt_got/194_A_Song_of_Ice_and_Fire.txt  \n",
      "  inflating: ../data/article_txt_got/229_Game_of_Thrones.txt  \n",
      "  inflating: ../data/article_txt_got/195_World_of_A_Song_of_Ice_and_Fire.txt  \n",
      "  inflating: ../data/article_txt_got/30_List_of_A_Song_of_Ice_and_Fire_characters.txt  \n",
      "  inflating: ../data/article_txt_got/84_List_of_awards_and_nominations_received_by_Game_of_Thrones.txt  \n",
      "  inflating: ../data/article_txt_got/349_List_of_Game_of_Thrones_characters.txt  \n"
     ]
    }
   ],
   "source": [
    "! DIR=\"../data/article_txt_got/\" && [ ! -d \"$DIR\" ] && \\\n",
    "mkdir -p \"$DIR\" && \\\n",
    "wget https://s3.eu-central-1.amazonaws.com/deepset.ai-farm-qa/datasets/documents/wiki_gameofthrones_txt.zip && \\\n",
    "unzip -o wiki_gameofthrones_txt.zip -d \"$DIR\" && \\\n",
    "rm wiki_gameofthrones_txt.zip || echo \"Data dir: '$DIR' already exists, skipping dowload\""
   ]
  },
  {
   "cell_type": "markdown",
   "metadata": {},
   "source": [
    "## 2. Index GoT data"
   ]
  },
  {
   "cell_type": "code",
   "execution_count": 2,
   "metadata": {},
   "outputs": [
    {
     "name": "stderr",
     "output_type": "stream",
     "text": [
      "09/18/2020 17:06:31 - INFO - elasticsearch -   PUT http://localhost:9200/game_of_thrones [status:200 request:0.519s]\n"
     ]
    }
   ],
   "source": [
    "HOST = 'localhost' \n",
    "PORT = 9200\n",
    "INDEX_NAME = 'game_of_thrones'\n",
    "\n",
    "from haystack import Finder\n",
    "from haystack.indexing.cleaning import clean_wiki_text\n",
    "from haystack.indexing.utils import convert_files_to_dicts, fetch_archive_from_http\n",
    "from haystack.reader.farm import FARMReader\n",
    "from haystack.reader.transformers import TransformersReader\n",
    "from haystack.utils import print_answers\n",
    "from haystack.database.elasticsearch import ElasticsearchDocumentStore\n",
    "document_store = ElasticsearchDocumentStore(host=HOST, port=PORT, username=\"\", password=\"\", index=INDEX_NAME)"
   ]
  },
  {
   "cell_type": "code",
   "execution_count": 2,
   "metadata": {},
   "outputs": [
    {
     "name": "stdout",
     "output_type": "stream",
     "text": [
      "#entries:  2497\n",
      "A sample:  {'text': '\\n====\\'\\'A Storm of Swords\\'\\'====\\nCatelyn has Jaime sent to King\\'s Landing to exchange him for her captive daughters Sansa and Arya, escorted by Brienne and Jaime\\'s cousin Ser Cleos Frey. They are attacked by outlaws who kill Cleos, and Jaime tries to escape in the commotion. Brienne restrains Jaime, but they are captured by the mercenary company the Brave Companions, allied to House Bolton. When their leader, Vargo Hoat, cuts off Jaime\\'s hand, Brienne convinces Jaime to live to have revenge on Hoat. In return, Jaime stops the Brave Companions from raping Brienne. The two prisoners are taken to Harrenhal, where Jaime reveals that he killed the Mad King Aerys II Targaryen to stop him from burning King\\'s Landing. Roose Bolton allows Jaime to return to King\\'s Landing but allows Hoat to keep Brienne as his prize. Hoat attempts to rape Brienne, but she bites off his ear, and Hoat throws her into a bear pit before Jaime returns to have her released.\\nBrienne and Jaime arrive in King\\'s Landing to find that King Joffrey Baratheon has been poisoned, Catelyn Stark has been murdered by the Freys, and both Arya and Sansa have fled the city. Renly\\'s lover Ser Loras Tyrell accuses Brienne of Renly\\'s murder, and Jaime has Brienne imprisoned for her own safety. Jaime allows Loras to speak to Brienne, and she convinces him of her innocence. Jaime releases Brienne and gives her a sword forged from Ned Stark\\'s Valyrian steel sword \"Ice\"; Jaime asks her to name the sword \"Oathkeeper\". Jaime asks Brienne to find Sansa and fulfill her oath to Catelyn.', 'meta': {'name': '488_Brienne_of_Tarth.txt'}}\n"
     ]
    }
   ],
   "source": [
    "doc_dir = \"../data/article_txt_got\"\n",
    "dicts = convert_files_to_dicts(dir_path=doc_dir, \n",
    "                               clean_func=clean_wiki_text, \n",
    "                               split_paragraphs=True)\n",
    "import random\n",
    "print('#entries: ', len(dicts))\n",
    "print('A sample: ', random.choice(dicts))"
   ]
  },
  {
   "cell_type": "code",
   "execution_count": 3,
   "metadata": {},
   "outputs": [
    {
     "name": "stderr",
     "output_type": "stream",
     "text": [
      "09/02/2020 18:40:45 - INFO - elasticsearch -   POST http://localhost:9200/_bulk [status:200 request:0.162s]\n",
      "09/02/2020 18:40:45 - INFO - elasticsearch -   POST http://localhost:9200/_bulk [status:200 request:0.087s]\n",
      "09/02/2020 18:40:45 - INFO - elasticsearch -   POST http://localhost:9200/_bulk [status:200 request:0.059s]\n",
      "09/02/2020 18:40:45 - INFO - elasticsearch -   POST http://localhost:9200/_bulk [status:200 request:0.056s]\n",
      "09/02/2020 18:40:45 - INFO - elasticsearch -   POST http://localhost:9200/_bulk [status:200 request:0.059s]\n"
     ]
    }
   ],
   "source": [
    "document_store.write_documents(dicts)"
   ]
  },
  {
   "cell_type": "markdown",
   "metadata": {},
   "source": [
    "## 3. QA on GoT"
   ]
  },
  {
   "cell_type": "code",
   "execution_count": 3,
   "metadata": {},
   "outputs": [],
   "source": [
    "from haystack.retriever.sparse import ElasticsearchRetriever\n",
    "retriever = ElasticsearchRetriever(document_store=document_store)"
   ]
  },
  {
   "cell_type": "code",
   "execution_count": null,
   "metadata": {},
   "outputs": [],
   "source": [
    "! DIR=\"../models/roberta-base-squad2\" && [ ! -d \"$DIR\" ] && \\\n",
    "mkdir -p \"$DIR\" && \\\n",
    "wget https://s3.amazonaws.com/models.huggingface.co/bert/deepset/roberta-base-squad2/config.json -P \"$DIR\" && \\\n",
    "wget https://cdn.huggingface.co/deepset/roberta-base-squad2/vocab.json -P \"$DIR\" && \\\n",
    "wget https://cdn.huggingface.co/deepset/roberta-base-squad2/merges.txt -P \"$DIR\" && \\\n",
    "wget https://cdn.huggingface.co/deepset/roberta-base-squad2/pytorch_model.bin -P \"$DIR\" && \\\n",
    "wget https://cdn.huggingface.co/deepset/roberta-base-squad2/tokenizer_config.json -P \"$DIR\" || \\\n",
    "echo \"Data dir: '$DIR' already exists, skipping dowload\""
   ]
  },
  {
   "cell_type": "code",
   "execution_count": 5,
   "metadata": {},
   "outputs": [],
   "source": [
    "READER_DiR = \"../models/electra-base-squad2\"\n",
    "reader = TransformersReader(model=READER_DiR, tokenizer=READER_DiR,  use_gpu=0)"
   ]
  },
  {
   "cell_type": "code",
   "execution_count": 6,
   "metadata": {},
   "outputs": [
    {
     "name": "stderr",
     "output_type": "stream",
     "text": [
      "09/18/2020 17:28:29 - INFO - elasticsearch -   POST http://localhost:9200/game_of_thrones/_search [status:200 request:0.004s]\n",
      "09/18/2020 17:28:29 - INFO - haystack.retriever.sparse -   Got 0 candidates from retriever\n",
      "09/18/2020 17:28:29 - INFO - haystack.finder -   Retriever did not return any documents. Skipping reader ...\n"
     ]
    }
   ],
   "source": [
    "finder = Finder(reader, retriever)\n",
    "prediction = finder.get_answers(question=\"who is the father of Arya Stark\", \n",
    "                                top_k_retriever=10, \n",
    "                                top_k_reader=3)"
   ]
  },
  {
   "cell_type": "code",
   "execution_count": 7,
   "metadata": {},
   "outputs": [
    {
     "name": "stdout",
     "output_type": "stream",
     "text": [
      "{'answers': [], 'question': 'who is the father of Arya Stark'}\n"
     ]
    }
   ],
   "source": [
    "print_answers(prediction)"
   ]
  },
  {
   "cell_type": "code",
   "execution_count": null,
   "metadata": {},
   "outputs": [],
   "source": []
  }
 ],
 "metadata": {
  "kernelspec": {
   "display_name": "Python 3",
   "language": "python",
   "name": "python3"
  },
  "language_info": {
   "codemirror_mode": {
    "name": "ipython",
    "version": 3
   },
   "file_extension": ".py",
   "mimetype": "text/x-python",
   "name": "python",
   "nbconvert_exporter": "python",
   "pygments_lexer": "ipython3",
   "version": "3.7.8"
  }
 },
 "nbformat": 4,
 "nbformat_minor": 4
}
